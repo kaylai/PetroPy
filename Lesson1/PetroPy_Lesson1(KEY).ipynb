{
 "cells": [
  {
   "cell_type": "markdown",
   "metadata": {},
   "source": [
    "## How to use this notebook:\n",
    "Press Shift+Enter to execute any cell. You'll need to execute both kinds of cells. Some contain text written in markdown (like this one). Some contain code (you'll see those below).\n",
    "\n",
    "Shift+Enter moves you to the next cell of the notebook. You can also click a cell to select it.\n",
    "\n",
    "To use a specific code cell, simply click in the cell and start typing. To edit a text cell, double click it. You'll reveal the markdown underneath. Don't panic. Just press Shift+Enter to \"execute\" that cell and it will once again render as text."
   ]
  },
  {
   "cell_type": "markdown",
   "metadata": {},
   "source": [
    "# Your first python script\n",
    "<hr>\n",
    "\n",
    "<b>We'll cover:\n",
    "- Getting started\n",
    "- Creating variables\n",
    "- Doing math\n",
    "- Using dictionaries\n",
    "- Using for loops\n",
    "- Using nested for loops\n",
    "    </b>\n",
    "\n",
    "<hr>\n",
    "\n",
    "**Some Preamble**\n",
    "\n",
    "I’ve been coding with python since grad school, where my colleague Nial Peters showed me how much easier my life could be if I knew how to code properly. Since then, I’ve learned SO MUCH! I absolutely adore coding. It’s like putting a puzzle together, but at the end, you have a useful tool.\n",
    "\n",
    "I find the only way I could learn new things was when I had a tangible task I wanted to complete. Something simple, where I could imagine the math that needed to happen. A good place to start your journey is by coding up some simple models or equations from a paper you know well.\n",
    "\n",
    "Let’s start by taking Gordon’s 1998 water solubility model (from Moore et al., 1998, American Mineralogist) and turning it into a python code.\n",
    "\n",
    "First, let’s set some goals. What do we want this code to do:\n",
    "1.\tCalculate the solubility of H2O in a magma\n",
    "\n",
    "That’ll be a great start, but it’s not a huge improvement over just doing the math. Let’s do that first, then set one further goal. If there is interest, **futuer lessons** will cover:\n",
    "2.\tTake in a spreadsheet of magma compositions and calculate the H2O solubility in each sample. \n",
    "3.\tPlot the data in python\n",
    "4.\tExport the data to an excel file\n"
   ]
  },
  {
   "cell_type": "markdown",
   "metadata": {},
   "source": [
    "## 1.0 Getting started\n",
    "First, let's look at Gordon's model equation to see what data we need:\n",
    "\n",
    "<img src=\"Moore_equation_1.png\">\n",
    "\n",
    "So that means we will need temperature (in Kelvin), pressure (in bars), the fugacity of H2O in the fluid, compositional terms for X, and the values for model coefficients *a*, *b*, *c*, and *d*, which Gordon gives in the paper.\n",
    "\n",
    "Almost every python script you'll write will require extra libraries. Libraries are python code written by some very smart person that tells python how to do complicated things. This is always at the very top of your script. If you code in C, this is like where you'd put your include statements with header files.\n",
    "\n",
    "We're going to import a python library called NumPy (for number python). It does lots of cool math stuff, and we'll need it to calculate logarithms later. Execute the code cell below to import NumPy. Numpy comes as a standard installation on most distributions of python. If you ever try to import a library and you get a message saying that library does not exist, it means it is not installed on your computer. "
   ]
  },
  {
   "cell_type": "code",
   "execution_count": 1,
   "metadata": {},
   "outputs": [],
   "source": [
    "import numpy"
   ]
  },
  {
   "cell_type": "markdown",
   "metadata": {},
   "source": [
    "You can import the library and give it a new name, if you want. I don't recommend doing this randomly, as it will confuse you when you need to use the library later. But, some common libraries like numpy have standard nicknames. NumPy is often imported as:\n",
    "\n",
    "`import numpy as np`\n",
    "\n",
    "This doesn't matter now, but if you ever see `np.some-function()`, that's simply shorthand for numpy."
   ]
  },
  {
   "cell_type": "markdown",
   "metadata": {},
   "source": [
    "## 2.0 Writing our first code: Defining variables\n",
    "\n",
    "We know what data we'll need to calculate XH2Omelt, so let's make up a magma and define our values for that magma. Using the following table, assign the values to their variables in the code cell below:\n",
    "\n",
    "#### First, let's definte the model coefficients given in the paper, from Table 4:\n",
    "<img src=\"Table4.png\">"
   ]
  },
  {
   "cell_type": "code",
   "execution_count": 2,
   "metadata": {},
   "outputs": [],
   "source": [
    "a = 2565\n",
    "b_Al2O3 = -1.997\n",
    "b_FeOt = -0.9275\n",
    "b_Na2O = 2.736\n",
    "c = 1.171\n",
    "d = -14.21"
   ]
  },
  {
   "cell_type": "markdown",
   "metadata": {},
   "source": [
    "You can check these variables got stored correctly at any time by typing print(variable) in a code cell to see its value. Try changing the variable name below, and check that your variables got stored correctly."
   ]
  },
  {
   "cell_type": "code",
   "execution_count": 3,
   "metadata": {},
   "outputs": [
    {
     "name": "stdout",
     "output_type": "stream",
     "text": [
      "2565\n"
     ]
    }
   ],
   "source": [
    "print(a)"
   ]
  },
  {
   "cell_type": "markdown",
   "metadata": {},
   "source": [
    "Great, now let's make up some values for the other variables for a magma we like. I've chosen Sample SAT-M12-1* from Gordon's paper, and we'll use the composition of MAS-12 andesite for our composition:"
   ]
  },
  {
   "cell_type": "code",
   "execution_count": 4,
   "metadata": {},
   "outputs": [],
   "source": [
    "P = 703 #Pressure in bars\n",
    "T_C = 1100 #Temperature in degrees C\n",
    "fH2O = 685 #H2O fugacity in bars\n",
    "\n",
    "#wt% values for sample MAS-12 andesite\n",
    "SiO2 = 62.6\n",
    "TiO2 = 0.63\n",
    "Al2O3 = 17.3\n",
    "FeOt = 3.82\n",
    "MnO = 0.06\n",
    "MgO = 6.68\n",
    "CaO = 5.64\n",
    "Na2O = 3.33\n",
    "K2O = 6.27\n",
    "P2O5 = 1.37\n"
   ]
  },
  {
   "cell_type": "markdown",
   "metadata": {},
   "source": [
    "Recall that our model equation takes in temperature in Kelvin, but we have enterred our temperature above in °C. Write a variable called T_K below that converts your temperature from C to K, recalling that Kelvin = C + 273.15."
   ]
  },
  {
   "cell_type": "code",
   "execution_count": 5,
   "metadata": {},
   "outputs": [],
   "source": [
    "T_K = T_C + 273.15"
   ]
  },
  {
   "cell_type": "markdown",
   "metadata": {},
   "source": [
    "### 2.1 Doing some math\n",
    "\n",
    "Note that the values I've given above are in wt%, but we are going to need them in mole fraction. Let's do some math to convert them from wt% to mole fraction. I'll get you started. First, let's make an easier way for ourselves to work with these numbers. Instead of these random floating oxides, let's make one variable, called 'MAS_12', and let's store all the compositional data in that variable. We can do that if we make 'MAS_12' a dictionary. Dictionaries are always defined by using curly brackets `{}` and have keys (the name of each value in the dictionary, which must be in quotation marks) and values (the value of each value in the dictionary). Commas must be placed between each key: value pair."
   ]
  },
  {
   "cell_type": "code",
   "execution_count": 6,
   "metadata": {},
   "outputs": [],
   "source": [
    "MAS_12 = {'SiO2': 62.6,\n",
    "          'TiO2': 0.63,\n",
    "          'Al2O3': 17.3,\n",
    "          'FeOt': 3.82,\n",
    "          'MnO': 0.06,\n",
    "          'MgO': 6.68,\n",
    "          'CaO': 5.64,\n",
    "          'Na2O': 3.33,\n",
    "          'K2O': 6.27,\n",
    "          'P2O5': 1.37}\n",
    "\n",
    "#NOTE! You could have simply put the variables we already defined instead of retyping the values. \n",
    "#For example 'SiO2': SiO2."
   ]
  },
  {
   "cell_type": "markdown",
   "metadata": {},
   "source": [
    "Try printing the variable MAS_12 below. Notice that the order is not maintainted. Dictionaries do not have order. They don't need to, since we named all of our variables."
   ]
  },
  {
   "cell_type": "code",
   "execution_count": 7,
   "metadata": {},
   "outputs": [
    {
     "name": "stdout",
     "output_type": "stream",
     "text": [
      "\n"
     ]
    }
   ],
   "source": [
    "print()"
   ]
  },
  {
   "cell_type": "markdown",
   "metadata": {},
   "source": [
    "Now, try accessing one oxide value in our dictionary. Let's say you want to know the FeO content of MAS_12. You can call it in square brackets `[]` like so:"
   ]
  },
  {
   "cell_type": "code",
   "execution_count": 8,
   "metadata": {},
   "outputs": [
    {
     "name": "stdout",
     "output_type": "stream",
     "text": [
      "3.82\n"
     ]
    }
   ],
   "source": [
    "print(MAS_12['FeOt'])"
   ]
  },
  {
   "cell_type": "markdown",
   "metadata": {},
   "source": [
    "**You try it:**\n",
    "Now, you make a dictionary. To convert from wt% to mole fraction, we will first need to divide each wt% value by the molecular weight of that oxide. Make a dictionary called 'molecular_weights' where the keys are oxides just the same as in our MAS_12 dictionary and the value are the molecular weights of those oxides. Don't forget to label iron as 'FeOt'. The keys in both of our dictionaries need to match."
   ]
  },
  {
   "cell_type": "code",
   "execution_count": 9,
   "metadata": {},
   "outputs": [],
   "source": [
    "#Your code here\n",
    "#TODO answer:\n",
    "molecular_weights = {'SiO2': 28.085+32, \n",
    "                     'MgO': 24.305+16, \n",
    "                     'FeOt': 55.845+16,\n",
    "                     'CaO': 40.078+16, \n",
    "                     'Al2O3': 2*26.982+16*3, \n",
    "                     'Na2O': 22.99*2+16,\n",
    "                     'K2O': 39.098*2+16, \n",
    "                     'MnO': 54.938+16, \n",
    "                     'TiO2': 47.867+32, \n",
    "                     'P2O5': 2*30.974+5*16}"
   ]
  },
  {
   "cell_type": "markdown",
   "metadata": {},
   "source": [
    "**Your first for loop**: Great, now lets do some dictionary math! Since we want to perform the same operation on each value in our dictionary, we can iterate over it, taking each key: value pair one at a time, doing some math, and moving to the next key: value pair. We do this with for loops.\n",
    "\n",
    "This will start with `for key, value in MAS_12.items():`. The `.items()` just tells python we want to access the stuff inside our dictionary. It's specific to iterating over dictionaries. Iterating over other variable types is different. We then indent text after the `:` and type what to do with each key: value pair. Inside this for loop, we can access the current key or value by simply typing 'key' or 'value'. key and value now act like variables. Like so:"
   ]
  },
  {
   "cell_type": "code",
   "execution_count": 10,
   "metadata": {},
   "outputs": [
    {
     "name": "stdout",
     "output_type": "stream",
     "text": [
      "SiO2\n",
      "62.6\n",
      "TiO2\n",
      "0.63\n",
      "Al2O3\n",
      "17.3\n",
      "FeOt\n",
      "3.82\n",
      "MnO\n",
      "0.06\n",
      "MgO\n",
      "6.68\n",
      "CaO\n",
      "5.64\n",
      "Na2O\n",
      "3.33\n",
      "K2O\n",
      "6.27\n",
      "P2O5\n",
      "1.37\n"
     ]
    }
   ],
   "source": [
    "for key, value in MAS_12.items():\n",
    "    print(key)\n",
    "    print(value)"
   ]
  },
  {
   "cell_type": "markdown",
   "metadata": {},
   "source": [
    "You can also do math like this:"
   ]
  },
  {
   "cell_type": "code",
   "execution_count": 11,
   "metadata": {},
   "outputs": [
    {
     "name": "stdout",
     "output_type": "stream",
     "text": [
      "125.2\n",
      "1.26\n",
      "34.6\n",
      "7.64\n",
      "0.12\n",
      "13.36\n",
      "11.28\n",
      "6.66\n",
      "12.54\n",
      "2.74\n"
     ]
    }
   ],
   "source": [
    "for key, value in MAS_12.items():\n",
    "    print(value * 2)"
   ]
  },
  {
   "cell_type": "markdown",
   "metadata": {},
   "source": [
    "**Your second for loop!** Now you can see how the computer parsed our dictionary. Okay, now let's get crazy and use a for loop on two dictionaries at once.\n",
    "\n",
    "First, we need to define the place where we are going to save our new values. Let's call it MAS_12_MPO (MPO is for Mole Proportion Oxide), and let's make it an empty dictionary that we can fill later.\n",
    "\n",
    "THEN, in the cell below that, let's make our for loop.\n",
    "\n",
    "You'll see below that we are using something called `.update` tacked onto the end of the name of our dictionary. This tells the code: we already have a dictionary, and now we are going to add (NOT overwrite) some keys and corresponding values. Our dictionary is empty, of course, so why do we need to use `.update`? To answer that, you need to understand how the computer thinks about for loops. It is literally looping through the same code, in order, over and over again. So, the first time the code executes your for loop, it writes some key and some value to your empty dictionary. The second time it executes your for loop, the dictionary is no longer empty. Because of this, we use the `.update` function. If we didn't, our dictionary would overwrite itself with new values each time it went through the for loop, and you would end up with a dictionary with only one key and one value.\n",
    "\n",
    "**More breakdown of what this loop is doing**: Let's take a closer look at what our for loop is doing. `MAS_12_MPO.update()`: We know this is simply telling the code to add new values to our dictionary, as explained above. `{}`: The curly brackets are required to tell our code that what we are updating is a dictionary. So, the code will expect a sequence like key: value. `key`: this is the thing that is changing each time we go through our for loop. We are looping in terms of `key` and `value` (`for key, value in`...). That means, that on the first loop, the variable `key` corresponds to the first key in the MAS_12 dictionary (that'd be \"SiO2\"). The second time through the loop, `key` corresponds to the second key in the MAS_12 dictionary (that'd be \"TiO2\"). And so on.\n",
    "\n",
    "Recall that you can grab any element of a dictionary by typing `dictionary_name[key]` as you did above when you printed the FeO value for MAS_12. That's what the rest of this line of code means.\n",
    "\n",
    "To summarize:\n",
    "- `MAS_12_MPO.update()`: add new values to our dictionary, and don't overwrite old ones\n",
    "- `key`: we are adding a key whose name is the value of the nth key in MAS_12, where n=loop number\n",
    "- `MAS_12[key]`: the value of our key will be the nth value in the MAS_12 dictionary\n",
    "- `molecular_weights[key]`: then divide the value of `MAS_12[key]` by the nth value in the molecular_weights dictionary\n",
    "- Note that we can use `key` in both the MAS_12 and molecular_weights dictionary *only* because the keys in those two dictionaries are identical."
   ]
  },
  {
   "cell_type": "code",
   "execution_count": 12,
   "metadata": {},
   "outputs": [],
   "source": [
    "MAS_12_MPO = {}"
   ]
  },
  {
   "cell_type": "code",
   "execution_count": 13,
   "metadata": {},
   "outputs": [
    {
     "name": "stdout",
     "output_type": "stream",
     "text": [
      "{'SiO2': 1.0418573687276358, 'TiO2': 0.007888113989507558, 'Al2O3': 0.16966772586403045, 'FeOt': 0.05317001879045167, 'MnO': 0.0008458090163241139, 'MgO': 0.16573626100980027, 'CaO': 0.10057420022112057, 'Na2O': 0.0537270087124879, 'K2O': 0.06656333602276104, 'P2O5': 0.009651421647363824}\n"
     ]
    }
   ],
   "source": [
    "for key, value in MAS_12.items():\n",
    "    MAS_12_MPO.update({key: MAS_12[key] / molecular_weights[key]})\n",
    "    \n",
    "print(MAS_12_MPO)     "
   ]
  },
  {
   "cell_type": "markdown",
   "metadata": {},
   "source": [
    "Sweet! But, we're not done. To get mole fractions, we need to divide each item in our MAS_12_MPO dictionary by the sum of the values in that dictionary. I'll get you started by showing you how to sum the values in the dictionary. Then, you use that sum and the MAS_12_MPO dictionary to make a new dictionary called MAS_12_X.\n",
    "\n",
    "**Get the sum of the values of MAS_12_MPO**:"
   ]
  },
  {
   "cell_type": "code",
   "execution_count": 14,
   "metadata": {},
   "outputs": [],
   "source": [
    "MPO_sum = sum(MAS_12_MPO.values())"
   ]
  },
  {
   "cell_type": "markdown",
   "metadata": {},
   "source": [
    "**Make an empty dictionary called MAS_12_X**:"
   ]
  },
  {
   "cell_type": "code",
   "execution_count": 15,
   "metadata": {},
   "outputs": [],
   "source": [
    "##TODO answer:\n",
    "MAS_12_X = {}"
   ]
  },
  {
   "cell_type": "markdown",
   "metadata": {},
   "source": [
    "**Make a for loop, and use the `.update()` function**\n",
    "\n",
    "Now, combine what you learned in the first two for loops you made. Make a for loop to iterate over MAS_12_MPO and divide each value by MPO_sum. This only requires two lines of code."
   ]
  },
  {
   "cell_type": "code",
   "execution_count": 16,
   "metadata": {},
   "outputs": [],
   "source": [
    "#TODO answer:\n",
    "for key, value in MAS_12_MPO.items():\n",
    "    MAS_12_X.update({key: value / MPO_sum})"
   ]
  },
  {
   "cell_type": "markdown",
   "metadata": {},
   "source": [
    "If you like, you can do a sanity check and make sure that the sum of MAS_12_X is equal to 1.0. Try calculating the sum of MAS_12_X (and save it to some variable) and then print that variable."
   ]
  },
  {
   "cell_type": "code",
   "execution_count": 17,
   "metadata": {},
   "outputs": [
    {
     "name": "stdout",
     "output_type": "stream",
     "text": [
      "1.0000000000000002\n"
     ]
    }
   ],
   "source": [
    "#TODO answer:\n",
    "something = sum(MAS_12_X.values())\n",
    "print(something)"
   ]
  },
  {
   "cell_type": "markdown",
   "metadata": {},
   "source": [
    "## 3.0 Writing the model equation"
   ]
  },
  {
   "cell_type": "markdown",
   "metadata": {},
   "source": [
    "Finally, we have now gathered all of the inputs we'll need to calculate XH2Omelt! what are all the variables we have, again? We can use a neat trick that only works in jupyter notebooks like this one, by typing `%whos`. Give it a try in the box below, if you want to."
   ]
  },
  {
   "cell_type": "code",
   "execution_count": 18,
   "metadata": {},
   "outputs": [
    {
     "name": "stdout",
     "output_type": "stream",
     "text": [
      "Variable            Type      Data/Info\n",
      "---------------------------------------\n",
      "Al2O3               float     17.3\n",
      "CaO                 float     5.64\n",
      "FeOt                float     3.82\n",
      "K2O                 float     6.27\n",
      "MAS_12              dict      n=10\n",
      "MAS_12_MPO          dict      n=10\n",
      "MAS_12_X            dict      n=10\n",
      "MPO_sum             float     1.669681264001483\n",
      "MgO                 float     6.68\n",
      "MnO                 float     0.06\n",
      "Na2O                float     3.33\n",
      "P                   int       703\n",
      "P2O5                float     1.37\n",
      "SiO2                float     62.6\n",
      "T_C                 int       1100\n",
      "T_K                 float     1373.15\n",
      "TiO2                float     0.63\n",
      "a                   int       2565\n",
      "b_Al2O3             float     -1.997\n",
      "b_FeOt              float     -0.9275\n",
      "b_Na2O              float     2.736\n",
      "c                   float     1.171\n",
      "d                   float     -14.21\n",
      "fH2O                int       685\n",
      "key                 str       P2O5\n",
      "molecular_weights   dict      n=10\n",
      "numpy               module    <module 'numpy' from '/an<...>kages/numpy/__init__.py'>\n",
      "something           float     1.0000000000000002\n",
      "value               float     0.009651421647363824\n"
     ]
    }
   ],
   "source": [
    "#TODO remove this code\n",
    "%whos"
   ]
  },
  {
   "cell_type": "markdown",
   "metadata": {},
   "source": [
    "Now, let's get to it. Let's look at our model equation again. Notice that there is a big sum in the center of it. We could write this in one line of code, but for clarity's sake, let's calcualte this in chunks. First, let's calculate the summation part of the equation. Then, we'll calcualte the rest.\n",
    "<img src=\"Moore_equation_1.png\">\n",
    "\n",
    "Write an equaiton below to calculate the summation. I'll get you started, but you finish the rest..."
   ]
  },
  {
   "cell_type": "code",
   "execution_count": 19,
   "metadata": {},
   "outputs": [],
   "source": [
    "#b_x_sum = b_Al2O3 * MAS_12_X['Al2O3'] + ??? #finish this summation by adding products for FeOt and Na2O\n",
    "\n",
    "#TODO answer:\n",
    "b_x_sum = b_Al2O3 * MAS_12_X['Al2O3'] + b_FeOt * MAS_12_X['FeOt'] + b_Na2O * MAS_12_X['Na2O']"
   ]
  },
  {
   "cell_type": "markdown",
   "metadata": {},
   "source": [
    "Now, let's write the entire model equation. But, first, you need to know a few things. Most importantly, you need to understand the way python does logarithms. \n",
    "\n",
    "Remember that Numpy package we imported in our first code cell? Now we need to use it. To call functions definted by a library you imported, you always type the library name and then a dot, like `numpy.something`. \n",
    "\n",
    "For some INSANE reason, NumPy decided it was a good idea to use `log()` to calcualte a natural log (typically notated as ln()). I hate when papers do this. Please don't ever do this, or at very least, be explicit. To do a regular logarithm, in base 10, you'd use `log10()`.\n",
    "\n",
    "Now, let's write our model equation:"
   ]
  },
  {
   "cell_type": "code",
   "execution_count": 20,
   "metadata": {},
   "outputs": [],
   "source": [
    "two_ln_XH2Omelt = (a/T_K) + b_x_sum * (P/T_K) + c*numpy.log(fH2O) + d"
   ]
  },
  {
   "cell_type": "markdown",
   "metadata": {},
   "source": [
    "Great, but that's not the final answer. We've calculated the right side of Equation (1), but we want to just get at XH2Omelt. First, let's divide both sides of the equation by two. Write an equation to divide two_ln_XH2Omelt by 2 and save it to a new variable named ln_XH2Omelt."
   ]
  },
  {
   "cell_type": "code",
   "execution_count": 21,
   "metadata": {},
   "outputs": [],
   "source": [
    "#TODO answer:\n",
    "ln_XH2Omelt = two_ln_XH2Omelt / 2"
   ]
  },
  {
   "cell_type": "markdown",
   "metadata": {},
   "source": [
    "Finally, we need to undo that natural log. Recall that you can do this by raising e to the power of each side of the equation. In other words:\n",
    "\n",
    "x = e$^{ln(x)}$\n",
    "\n",
    "NumPy calculates e to the power of a variable as `numpy.exp(variable)`. You can try it below. Try calculating e$^5$."
   ]
  },
  {
   "cell_type": "code",
   "execution_count": 22,
   "metadata": {},
   "outputs": [
    {
     "name": "stdout",
     "output_type": "stream",
     "text": [
      "148.4131591025766\n"
     ]
    }
   ],
   "source": [
    "test_e = numpy.exp(5)\n",
    "print(test_e)"
   ]
  },
  {
   "cell_type": "markdown",
   "metadata": {},
   "source": [
    "Now, apply that knowledge. In the next code cell, make a new variable called XH2Omelt and make it equal to e to the power of ln_XH2Omelt. Then, print your new variable. If everything went right, you should get XH2Omelt of ~0.089."
   ]
  },
  {
   "cell_type": "code",
   "execution_count": 23,
   "metadata": {},
   "outputs": [
    {
     "name": "stdout",
     "output_type": "stream",
     "text": [
      "0.09208791918862844\n"
     ]
    }
   ],
   "source": [
    "#TODO answer:\n",
    "XH2Omelt = numpy.exp(ln_XH2Omelt)\n",
    "print(XH2Omelt)"
   ]
  },
  {
   "cell_type": "markdown",
   "metadata": {},
   "source": [
    "In case we want to do anything later with this value, let's attach it to our MAS_12_X variable by adding it to that dictionary. You can add to a dictionary quite simply, like:"
   ]
  },
  {
   "cell_type": "code",
   "execution_count": 24,
   "metadata": {},
   "outputs": [
    {
     "name": "stdout",
     "output_type": "stream",
     "text": [
      "{'SiO2': 0.6239857817118744, 'TiO2': 0.0047243232343658565, 'Al2O3': 0.10161683521405301, 'FeOt': 0.03184441242577448, 'MnO': 0.0005065691485913222, 'MgO': 0.09926221524017356, 'CaO': 0.06023556854203955, 'Na2O': 0.032178002994253024, 'K2O': 0.03986589384325865, 'P2O5': 0.005780397645616302, 'H2O': 0.09208791918862844}\n"
     ]
    }
   ],
   "source": [
    "MAS_12_X['H2O'] = XH2Omelt\n",
    "\n",
    "#and you can print this dictionary to see what it looks like now:\n",
    "print(MAS_12_X)"
   ]
  },
  {
   "cell_type": "markdown",
   "metadata": {},
   "source": [
    "## 4.0 Converting everything back into wt%\n",
    "\n",
    "We usually think about magma compositions in wt%. Using what you've learned, write some code in the cell below to convert MAS_12_X into wt%. You can essentially do the reverse of what we did above, to convert MAS_12 into mole fraction. But beware: there are two special requirements to get the correct answer here:\n",
    "1. You have an extra key in your dictionary now ('H2O'). Don't forget to include a value for 'H2O' in your molecular_weights dictionary. \n",
    "2. We've calculated our H$_2$O value in mole fraction based on the *normalized anhyrous mole fractions of the major oxides*. We don't want the H$_2$O value to get artificially normalized to a smaller value, so we can't simply copy the process we used before to normalize our anhydrous composition. I'll walk you through this.\n",
    "\n",
    "### 4.0 Let's start first by adding an H$_2$O value to our molecular_weights dictionary:"
   ]
  },
  {
   "cell_type": "code",
   "execution_count": 25,
   "metadata": {},
   "outputs": [],
   "source": [
    "#molecular_weights['#TYPE YOUR KEY'] = #TYPE THE VALUE\n",
    "\n",
    "#TODO answer:\n",
    "molecular_weights['H2O'] = 18.02"
   ]
  },
  {
   "cell_type": "markdown",
   "metadata": {},
   "source": [
    "Now, let's write our code to convert our mole fraction values to wt% values, while asserting that the H$_2$O mole fraction value not be improperly renormalized. What we need to do is:\n",
    "1. Normalize our mole fractions to sum to 1, **without** altering the XH$_2$O value.\n",
    "2. Convert mole fractions to wt% the normal way\n",
    "\n",
    "### 4.1 Normalizing our mole fractions to sum to 1, while preserving XH$_2$O\n",
    "Currently, our mole fraction dictionary MAS_12_X sums to (1 + XH$_2$O). We need some mathematical operation to normalize the major oxides (everything except H$_2$O) to a sum of (1 - XH$_2$O) so that the sum of all oxides (including $H_2$O) sums to 1 exactly. We can accomplish this by applying the conversion of the Maclaurin series expansion, 1 + x + x$^2$ + X$^3$ + ..., which converges to 1/(1-x) to the major oxides. Here, our x value is the mole fraction of H$_2$O, and we need to divide the mole fraction value of each major oxide by 1/(1-x). Let's try this below using a for loop to iterate over our dictionary and an if statement to only grab major oxides (exclude H$_2$O). We do this below by specifying something akin to \"if the key of our dictionary is not 'H2O' during this iteration\", and we implement this using `!=`, which is python speak for \"not equal to\"."
   ]
  },
  {
   "cell_type": "code",
   "execution_count": 26,
   "metadata": {},
   "outputs": [],
   "source": [
    "for key, value in MAS_12_X.items():\n",
    "    if key != 'H2O':\n",
    "        MAS_12_X.update({key: value/(1/(1-MAS_12_X['H2O']))})"
   ]
  },
  {
   "cell_type": "markdown",
   "metadata": {},
   "source": [
    "Prove to yourself that this works. Try summing the items in MAS_12_X below. The sum should be 1.0."
   ]
  },
  {
   "cell_type": "code",
   "execution_count": 29,
   "metadata": {},
   "outputs": [
    {
     "data": {
      "text/plain": [
       "1.0"
      ]
     },
     "execution_count": 29,
     "metadata": {},
     "output_type": "execute_result"
    }
   ],
   "source": [
    "#TODO answer:\n",
    "sum(MAS_12_X.values())"
   ]
  },
  {
   "cell_type": "markdown",
   "metadata": {},
   "source": [
    "### 4.2 Converting mole fractions to wt%\n",
    "\n",
    "This next step should feel familiar, so I'll leave it up to you to write the code. Here, you simply want to convert from mole fraction to wt%. To do this, execute the reverse of what we did previously to convert from wt% to mole fraction. You'll need to:\n",
    "1. Create two new empty dictionaries to populate\n",
    "2. Make a nested for loop to multiply the mole fractions with molecular weights\n",
    "3. Calculate the sum of your dictionary containing mole proportion oxides\n",
    "4. Make a single for loop to divide each value in the mole proportion oxides dictionary by the sum of the mole proportion oxides. Don't forget to also multiply by 100 to give %ages."
   ]
  },
  {
   "cell_type": "code",
   "execution_count": 30,
   "metadata": {},
   "outputs": [
    {
     "name": "stdout",
     "output_type": "stream",
     "text": [
      "{'SiO2': 56.52281509124037, 'TiO2': 0.5688398323878824, 'Al2O3': 15.620522381445022, 'FeOt': 3.4491558090820797, 'MnO': 0.05417522213217926, 'MgO': 6.031508064049291, 'CaO': 5.092470880424851, 'Na2O': 3.006724828335949, 'K2O': 5.661310712812732, 'P2O5': 1.2370009053514268, 'H2O': 2.755476272738219}\n"
     ]
    }
   ],
   "source": [
    "#TODO answer:\n",
    "MAS_12_MPO2 = {}\n",
    "MAS_12_wtper = {}\n",
    "for key, value in MAS_12_X.items():\n",
    "    MAS_12_MPO2.update({key: MAS_12_X[key] * molecular_weights[key]})\n",
    "\n",
    "MPO2_sum = sum(MAS_12_MPO2.values())\n",
    "for key, value in MAS_12_MPO2.items():\n",
    "    MAS_12_wtper.update({key: 100* value / MPO2_sum})\n",
    "\n",
    "print(MAS_12_wtper)"
   ]
  },
  {
   "cell_type": "markdown",
   "metadata": {},
   "source": [
    "Great, now try printing the value of H2O in wt%. You should get a value ~2.75 wt% H2O."
   ]
  },
  {
   "cell_type": "code",
   "execution_count": 31,
   "metadata": {},
   "outputs": [
    {
     "name": "stdout",
     "output_type": "stream",
     "text": [
      "2.755476272738219\n"
     ]
    }
   ],
   "source": [
    "#TODO answer:\n",
    "print(MAS_12_wtper['H2O'])"
   ]
  },
  {
   "cell_type": "markdown",
   "metadata": {},
   "source": [
    "This is the end of the first lesson! If you're keen to learn more, we can continue in another notebook where we will take this to the next level: importing a spreadsheet full of data and calcualting the XH2Omelt value for all of the samples at once."
   ]
  }
 ],
 "metadata": {
  "kernelspec": {
   "display_name": "Python 3",
   "language": "python",
   "name": "python3"
  },
  "language_info": {
   "codemirror_mode": {
    "name": "ipython",
    "version": 3
   },
   "file_extension": ".py",
   "mimetype": "text/x-python",
   "name": "python",
   "nbconvert_exporter": "python",
   "pygments_lexer": "ipython3",
   "version": "3.7.7"
  }
 },
 "nbformat": 4,
 "nbformat_minor": 2
}
